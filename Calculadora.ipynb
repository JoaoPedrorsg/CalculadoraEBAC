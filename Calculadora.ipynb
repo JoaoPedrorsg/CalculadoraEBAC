{
  "nbformat": 4,
  "nbformat_minor": 0,
  "metadata": {
    "colab": {
      "provenance": [],
      "authorship_tag": "ABX9TyMHRt8g0nogYQ201gZEpzD3",
      "include_colab_link": true
    },
    "kernelspec": {
      "name": "python3",
      "display_name": "Python 3"
    },
    "language_info": {
      "name": "python"
    }
  },
  "cells": [
    {
      "cell_type": "markdown",
      "metadata": {
        "id": "view-in-github",
        "colab_type": "text"
      },
      "source": [
        "<a href=\"https://colab.research.google.com/github/JoaoPedrorsg/CalculadoraEBAC/blob/main/Calculadora.ipynb\" target=\"_parent\"><img src=\"https://colab.research.google.com/assets/colab-badge.svg\" alt=\"Open In Colab\"/></a>"
      ]
    },
    {
      "cell_type": "code",
      "execution_count": null,
      "metadata": {
        "id": "0kE78BC8XxOt"
      },
      "outputs": [],
      "source": [
        "#Funções para operações\n",
        "def add(x, y):\n",
        "    return x + y\n",
        "\n",
        "def subtract(x, y):\n",
        "    return x - y\n",
        "\n",
        "def multiply(x, y):\n",
        "    return x * y\n",
        "\n",
        "def divide(x, y):\n",
        "    if y == 0:\n",
        "        return \"Erro! Divisão por zero.\"\n",
        "    return x / y\n",
        "\n",
        "def calculator():   #menu para seleção da operação matematica\n",
        "    print(\"Selecione a operação:\")\n",
        "    print(\"1. Adição\")\n",
        "    print(\"2. Subtração\")\n",
        "    print(\"3. Multiplicação\")\n",
        "    print(\"4. Divisão\")\n",
        "\n",
        "#solicitar a operação que deseja fazer\n",
        "    while True:\n",
        "        choice = input(\"Digite o número da operação (1/2/3/4): \")\n",
        "\n",
        "#inserio os numeros para operações\n",
        "        if choice in ['1', '2', '3', '4']:\n",
        "            num1 = float(input(\"Digite o primeiro número: \"))\n",
        "            num2 = float(input(\"Digite o segundo número: \"))\n",
        "\n",
        "#a execusões das operações\n",
        "            if choice == '1':\n",
        "                print(f\"{num1} + {num2} = {add(num1, num2)}\")\n",
        "            elif choice == '2':\n",
        "                print(f\"{num1} - {num2} = {subtract(num1, num2)}\")\n",
        "            elif choice == '3':\n",
        "                print(f\"{num1} * {num2} = {multiply(num1, num2)}\")\n",
        "            elif choice == '4':\n",
        "                print(f\"{num1} / {num2} = {divide(num1, num2)}\")\n",
        "        else:\n",
        "            print(\"Entrada inválida\") #retornor de erro\n",
        "\n",
        "#retorno ao menu de operações\n",
        "        next_calculation = input(\"Deseja fazer outra operação? (sim/não): \")\n",
        "        if next_calculation.lower() != 'sim':\n",
        "            break\n",
        "\n",
        "if __name__ == \"__main__\":\n",
        "    calculator()\n",
        "\n"
      ]
    }
  ]
}